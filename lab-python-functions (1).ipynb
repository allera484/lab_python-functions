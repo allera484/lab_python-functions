{
 "cells": [
  {
   "cell_type": "markdown",
   "id": "25d7736c-ba17-4aff-b6bb-66eba20fbf4e",
   "metadata": {},
   "source": [
    "# Lab | Functions"
   ]
  },
  {
   "cell_type": "markdown",
   "id": "0392b3d8",
   "metadata": {
    "tags": []
   },
   "source": [
    "## Exercise: Managing Customer Orders with Functions\n",
    "\n",
    "In the previous exercise, you improved the code for managing customer orders by using loops and flow control. Now, let's take it a step further and refactor the code by introducing functions.\n",
    "\n",
    "Follow the steps below to complete the exercise:\n",
    "\n",
    "1. Define a function named `initialize_inventory` that takes `products` as a parameter. Inside the function, implement the code for initializing the inventory dictionary using a loop and user input.\n",
    "\n",
    "2. Define a function named `get_customer_orders` that takes no parameters. Inside the function, implement the code for prompting the user to enter the product names using a loop. The function should return the `customer_orders` set.\n",
    "\n",
    "3. Define a function named `update_inventory` that takes `customer_orders` and `inventory` as parameters. Inside the function, implement the code for updating the inventory dictionary based on the customer orders.\n",
    "\n",
    "4. Define a function named `calculate_order_statistics` that takes `customer_orders` and `products` as parameters. Inside the function, implement the code for calculating the order statistics (total products ordered, and percentage of unique products ordered). The function should return these values.\n",
    "\n",
    "5. Define a function named `print_order_statistics` that takes `order_statistics` as a parameter. Inside the function, implement the code for printing the order statistics.\n",
    "\n",
    "6. Define a function named `print_updated_inventory` that takes `inventory` as a parameter. Inside the function, implement the code for printing the updated inventory.\n",
    "\n",
    "7. Call the functions in the appropriate sequence to execute the program and manage customer orders.\n",
    "\n",
    "Hints for functions:\n",
    "\n",
    "- Consider the input parameters required for each function and their return values.\n",
    "- Utilize function parameters and return values to transfer data between functions.\n",
    "- Test your functions individually to ensure they work correctly.\n",
    "\n",
    "\n"
   ]
  },
  {
   "cell_type": "code",
   "execution_count": 51,
   "id": "80d64176",
   "metadata": {},
   "outputs": [],
   "source": [
    "def initialize_inventory(products):\n",
    "    \"\"\"\n",
    "     initialize_inventory that takes products as a parameter. \n",
    "     Inside the function, implement the code for initializing the inventory dictionary using a loop and user input.\n",
    "    \n",
    "    \"\"\"\n",
    "    inventory = {}\n",
    "    for product in products:\n",
    "        quantity = input(f'Number of {product} available: ')\n",
    "        while not quantity.isdigit():\n",
    "            quantity = input(f'Number of {product} available, please type a digit: ')\n",
    "        inventory[product] = int(quantity)\n",
    "        #inventory.update({product:int(quantity)}) # alternative way to insert data in the dictionary\n",
    "        print(f'Product {product} has {quantity} in stock') \n",
    "    return inventory\n",
    "\n",
    "def get_customer_orders():\n",
    "    \"\"\"\n",
    "    Inside the function, implement the code for prompting the user to enter the product names using a loop. \n",
    "    The function should return the customer_orders set.\n",
    "    \"\"\"\n",
    "    customer_orders = set()\n",
    "    moreorders = True\n",
    "    while moreorders:\n",
    "        order = input('Enter the name of your product')\n",
    "        while order not in products:\n",
    "            order = input (f'Please type a product in {products} ')\n",
    "        customer_orders.add(order)\n",
    "        tmp = input(\"Please type Yes or No. Want to order something else? Yype 'Yes' or 'No':\")\n",
    "        while tmp !='Yes' and tmp != 'No':\n",
    "            tmp = input(\"Please type Yes or No. Want to order something else? Yype 'Yes' or 'No':\")\n",
    "        if tmp.capitalize() == 'Yes':\n",
    "            moreorders = True\n",
    "        else:\n",
    "            moreorders = False \n",
    "        return customer_orders\n",
    "def update_inventory(customer_orders, inventory):\n",
    "    \"\"\"\n",
    "    Inside the function, implement the code for updating the inventory dictionary based on the customer orders.\n",
    "    \"\"\"\n",
    "    for product in customer_orders:\n",
    "        inventory[product]-=1\n",
    "    print(inventory)\n",
    "\n",
    "def calculate_order_statistics(customer_orders,inventory):\n",
    "    \"\"\"\n",
    "    Inside the function, implement the code for calculating the order statistics (total products ordered, and percentage of unique products ordered). \n",
    "    The function should return these values.\n",
    "    \"\"\"\n",
    "    total_products = len(customer_orders)\n",
    "    percentage_unique_products = sum(inventory.values())\n",
    "    return total_products, percentage_unique_products\n",
    "\n",
    "def print_order_statistics(order_statistics):\n",
    "    \"\"\"\n",
    "    Inside the function, implement the code for printing the order statistics.\n",
    "    \"\"\"\n",
    "    print(print(f'''Order Statistics:\n",
    "    Total Products Ordered: {statistics_tuple[0]}\n",
    "    Percentage of Products Ordered: {statistics_tuple[1]}%'''))\n",
    "\n",
    "def print_updated_inventory(inventory):\n",
    "    \"\"\"\n",
    "    Inside the function, implement the code for printing the updated inventory\n",
    "    \"\"\"\n",
    "    print(f'The inventory after customer purchase is :{inventory}')"
   ]
  },
  {
   "cell_type": "code",
   "execution_count": 56,
   "id": "bc71f6d5",
   "metadata": {
    "scrolled": false
   },
   "outputs": [
    {
     "name": "stdout",
     "output_type": "stream",
     "text": [
      "Number of t-shirt available: 6\n",
      "Product t-shirt has 6 in stock\n",
      "Number of mug available: 2\n",
      "Product mug has 2 in stock\n",
      "Number of hat available: 3\n",
      "Product hat has 3 in stock\n",
      "Number of book available: 2\n",
      "Product book has 2 in stock\n",
      "Number of keychain available: 5\n",
      "Product keychain has 5 in stock\n",
      "Enter the name of your productmug\n",
      "Please type Yes or No. Want to order something else? Yype 'Yes' or 'No':No\n",
      "Order Statistics:\n",
      "    Total Products Ordered: 1\n",
      "    Percentage of Products Ordered: 18%\n",
      "None\n"
     ]
    }
   ],
   "source": [
    "products = [\"t-shirt\",\"mug\",\"hat\",\"book\",\"keychain\"]\n",
    "inventory = initialize_inventory(products)\n",
    "customer_orders = get_customer_orders()\n",
    "statistics_tuple = calculate_order_statistics(customer_orders,inventory)\n",
    "print_order_statistics(statistics_tuple)"
   ]
  },
  {
   "cell_type": "code",
   "execution_count": 57,
   "id": "aa348113",
   "metadata": {},
   "outputs": [
    {
     "name": "stdout",
     "output_type": "stream",
     "text": [
      "The inventory after customer purchase is :{'t-shirt': 6, 'mug': 2, 'hat': 3, 'book': 2, 'keychain': 5}\n"
     ]
    }
   ],
   "source": [
    "print_updated_inventory(inventory)"
   ]
  },
  {
   "cell_type": "code",
   "execution_count": 49,
   "id": "f45c6913",
   "metadata": {},
   "outputs": [
    {
     "name": "stdout",
     "output_type": "stream",
     "text": [
      "Order Statistics:\n",
      "    Total Products Ordered: 1\n",
      "    Percentage of Products Ordered: 21%\n",
      "None\n"
     ]
    }
   ],
   "source": [
    "print_order_statistics(statistics_tuple)"
   ]
  },
  {
   "cell_type": "code",
   "execution_count": 37,
   "id": "7c652693",
   "metadata": {},
   "outputs": [
    {
     "data": {
      "text/plain": [
       "(1, 19)"
      ]
     },
     "execution_count": 37,
     "metadata": {},
     "output_type": "execute_result"
    }
   ],
   "source": [
    "calculate_order_statistics(customer_orders,inventory)"
   ]
  },
  {
   "cell_type": "code",
   "execution_count": 59,
   "id": "96481a5b",
   "metadata": {},
   "outputs": [
    {
     "name": "stdout",
     "output_type": "stream",
     "text": [
      "{'t-shirt': 6, 'mug': 1, 'hat': 3, 'book': 2, 'keychain': 5}\n"
     ]
    }
   ],
   "source": [
    "update_inventory(customer_orders, inventory)"
   ]
  },
  {
   "cell_type": "code",
   "execution_count": 58,
   "id": "44e2e014",
   "metadata": {},
   "outputs": [
    {
     "data": {
      "text/plain": [
       "{'t-shirt': 6, 'mug': 2, 'hat': 3, 'book': 2, 'keychain': 5}"
      ]
     },
     "execution_count": 58,
     "metadata": {},
     "output_type": "execute_result"
    }
   ],
   "source": [
    "inventory"
   ]
  },
  {
   "cell_type": "code",
   "execution_count": 29,
   "id": "238ed016",
   "metadata": {},
   "outputs": [
    {
     "name": "stdout",
     "output_type": "stream",
     "text": [
      "Enter the name of your productmug\n",
      "Please type Yes or No. Want to order something else? Yype 'Yes' or 'No':No\n"
     ]
    },
    {
     "data": {
      "text/plain": [
       "{'mug'}"
      ]
     },
     "execution_count": 29,
     "metadata": {},
     "output_type": "execute_result"
    }
   ],
   "source": [
    "get_customer_orders()"
   ]
  },
  {
   "cell_type": "code",
   "execution_count": 27,
   "id": "db795dfd",
   "metadata": {},
   "outputs": [
    {
     "data": {
      "text/plain": [
       "5"
      ]
     },
     "execution_count": 27,
     "metadata": {},
     "output_type": "execute_result"
    }
   ],
   "source": [
    "inventory['mug']"
   ]
  },
  {
   "cell_type": "code",
   "execution_count": null,
   "id": "535f521a",
   "metadata": {},
   "outputs": [],
   "source": [
    "products = [\"t-shirt\",\"mug\",\"hat\",\"book\",\"keychain\"]\n",
    "inventory = dict()\n",
    "inventory = {}\n",
    "for product in products:\n",
    "    quantity = input(f'Number of {product} available: ')\n",
    "    \n",
    "    while not quantity.isdigit():\n",
    "        quantity = input(f'Number of {product} available, please type a digit: ')\n",
    "    inventory[product] = int(quantity)\n",
    "    inventory.update({product:int(quantity)}) # alternative way to insert data in the dictionary\n",
    "    print(f'Product {product} has {quantity} in stock') \n",
    "    \n",
    "    customer_orders = set()\n",
    "moreorders = True\n",
    "while moreorders:\n",
    "    order = input('Enter the name of your product')\n",
    "    while order not in products:\n",
    "        order = input (f'Please type a product in {products} ')\n",
    "        customer_orders.add(order)\n",
    "        tmp = input(\"Please type Yes or No. Want to order something else? Yype 'Yes' or 'No':\")\n",
    "        while tmp !='Yes' and tmp != 'No':\n",
    "            tmp = input(\"Please type Yes or No. Want to order something else? Yype 'Yes' or 'No':\")\n",
    "        if tmp.capitalize() == 'Yes':\n",
    "            moreorders = True\n",
    "        else:\n",
    "            moreorders = False \n",
    "    \n",
    "print(customer_orders)\n",
    "\n",
    "total_purchase = len(customer_orders)\n",
    "quantity_of_products = sum(inventory.values())\n",
    "order_percentual = (total_purchase/quantity_of_products)*100\n",
    "statistics_tuple = (total_purchase,order_percentual)\n",
    "\n",
    "print(f'''Order Statistics:\n",
    "Total Products Ordered: {statistics_tuple[0]}\n",
    "Percentage of Products Ordered: {statistics_tuple[1]}%''')\n",
    "\n",
    "#print(f'Items purchased{total_purchase}')\n",
    "#print(f'Percentual of products purchased{order_percentual}%')\n",
    "\n",
    "for product in customer_orders:\n",
    "    inventory[product]-=1\n",
    "\n",
    "print(inventory)\n",
    "    "
   ]
  },
  {
   "cell_type": "code",
   "execution_count": null,
   "id": "09461ff0",
   "metadata": {},
   "outputs": [],
   "source": [
    "def get_customer_orders():\n",
    "    \"\"\"\n",
    "    Inside the function, implement the code for prompting the user to enter the product names using a loop. \n",
    "    The function should return the customer_orders set.\n",
    "    \"\"\"\n",
    "    customer_orders = set()\n",
    "    moreorders = True\n",
    "    while moreorders:\n",
    "        order = input('Enter the name of your product')\n",
    "        while order not in products:\n",
    "            order = input (f'Please type a product in {products} ')\n",
    "        customer_orders.add(order)\n",
    "        tmp = input(\"Please type Yes or No. Want to order something else? Yype 'Yes' or 'No':\")\n",
    "        while tmp !='Yes' and tmp != 'No':\n",
    "            tmp = input(\"Please type Yes or No. Want to order something else? Yype 'Yes' or 'No':\")\n",
    "        if tmp.capitalize() == 'Yes':\n",
    "            moreorders = True\n",
    "        else:\n",
    "            moreorders = False \n",
    "        return customer_orders"
   ]
  }
 ],
 "metadata": {
  "kernelspec": {
   "display_name": "Python 3 (ipykernel)",
   "language": "python",
   "name": "python3"
  },
  "language_info": {
   "codemirror_mode": {
    "name": "ipython",
    "version": 3
   },
   "file_extension": ".py",
   "mimetype": "text/x-python",
   "name": "python",
   "nbconvert_exporter": "python",
   "pygments_lexer": "ipython3",
   "version": "3.11.5"
  }
 },
 "nbformat": 4,
 "nbformat_minor": 5
}
